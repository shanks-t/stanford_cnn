{
 "cells": [
  {
   "cell_type": "code",
   "execution_count": 46,
   "metadata": {},
   "outputs": [],
   "source": [
    "from sklearn.neighbors import KNeighborsClassifier\n",
    "from sklearn.model_selection import train_test_split\n",
    "from imutils import paths\n",
    "import numpy as np\n",
    "import argparse\n",
    "import imutils\n",
    "import cv2\n",
    "import os"
   ]
  },
  {
   "cell_type": "code",
   "execution_count": 47,
   "metadata": {},
   "outputs": [],
   "source": [
    "# grab the list of images that we'll be describing\n",
    "imagePaths = list(paths.list_images(\"../data/dogs-vs-cats\"))"
   ]
  },
  {
   "cell_type": "code",
   "execution_count": 48,
   "metadata": {},
   "outputs": [],
   "source": [
    "def image_to_feature_vector(image, size=(64, 64)):\n",
    "\t# resize the image to a fixed size, then flatten the image into\n",
    "\t# a list of raw pixel intensities\n",
    "\treturn cv2.resize(image, size).flatten()"
   ]
  },
  {
   "cell_type": "code",
   "execution_count": 49,
   "metadata": {},
   "outputs": [],
   "source": [
    "def extract_color_histogram(image, bins=(8, 8, 8)):\n",
    "\t# extract a 3D color histogram from the HSV color space using\n",
    "\t# the supplied number of `bins` per channel\n",
    "\trgb = cv2.cvtColor(image, cv2.COLOR_BGR2RGB)\n",
    "\thist = cv2.calcHist([rgb], [0, 1, 2], None, bins,\n",
    "\t\t[0, 180, 0, 256, 0, 256])\n",
    "\tcv2.normalize(hist, hist)\n",
    "\t# return the flattened histogram as the feature vector\n",
    "\treturn hist.flatten()"
   ]
  },
  {
   "cell_type": "code",
   "execution_count": 50,
   "metadata": {},
   "outputs": [],
   "source": [
    "def process_images(directory, has_labels=True):\n",
    "    imagePaths = list(paths.list_images(directory))\n",
    "    rawImages = []\n",
    "    features = []\n",
    "    labels = []\n",
    "\n",
    "    for (i, imagePath) in enumerate(imagePaths):\n",
    "        image = cv2.imread(imagePath)\n",
    "        if image is None:\n",
    "            print(f\"Warning: Could not load image at {imagePath}\")\n",
    "            continue\n",
    "        \n",
    "        if has_labels:\n",
    "            label = imagePath.split(os.path.sep)[-1].split(\".\")[0]\n",
    "        else:\n",
    "            label = None\n",
    "\n",
    "        \n",
    "        pixels = image_to_feature_vector(image)\n",
    "        hist = extract_color_histogram(image)\n",
    "        \n",
    "        if i < 5:  # Print details for the first 5 images\n",
    "            print(f\"Image {i}:\")\n",
    "            print(f\"  Path: {imagePath}\")\n",
    "            print(f\"  Label: {label}\")\n",
    "            print(f\"  Shape: {image.shape}\")\n",
    "            print(f\"  Pixel vector shape: {pixels.shape}\")\n",
    "            print(f\"  Histogram shape: {hist.shape}\")\n",
    "        \n",
    "        rawImages.append(pixels)\n",
    "        features.append(hist)\n",
    "        labels.append(label)\n",
    "        \n",
    "        if i > 0 and i % 1000 == 0:\n",
    "            print(\"[INFO] processed {}/{}\".format(i, len(imagePaths)))\n",
    "\n",
    "    return np.array(rawImages), np.array(features), np.array(labels)"
   ]
  },
  {
   "cell_type": "code",
   "execution_count": 55,
   "metadata": {},
   "outputs": [
    {
     "name": "stdout",
     "output_type": "stream",
     "text": [
      "[INFO] processing training data...\n",
      "Image 0:\n",
      "  Path: ../data/dogs-vs-cats/train/dog.8011.jpg\n",
      "  Label: dog\n",
      "  Shape: (500, 380, 3)\n",
      "  Pixel vector shape: (12288,)\n",
      "  Histogram shape: (512,)\n",
      "Image 1:\n",
      "  Path: ../data/dogs-vs-cats/train/cat.5077.jpg\n",
      "  Label: cat\n",
      "  Shape: (300, 399, 3)\n",
      "  Pixel vector shape: (12288,)\n",
      "  Histogram shape: (512,)\n",
      "Image 2:\n",
      "  Path: ../data/dogs-vs-cats/train/dog.7322.jpg\n",
      "  Label: dog\n",
      "  Shape: (120, 159, 3)\n",
      "  Pixel vector shape: (12288,)\n",
      "  Histogram shape: (512,)\n",
      "Image 3:\n",
      "  Path: ../data/dogs-vs-cats/train/cat.2718.jpg\n",
      "  Label: cat\n",
      "  Shape: (480, 467, 3)\n",
      "  Pixel vector shape: (12288,)\n",
      "  Histogram shape: (512,)\n",
      "Image 4:\n",
      "  Path: ../data/dogs-vs-cats/train/cat.10151.jpg\n",
      "  Label: cat\n",
      "  Shape: (375, 499, 3)\n",
      "  Pixel vector shape: (12288,)\n",
      "  Histogram shape: (512,)\n",
      "[INFO] processed 1000/25000\n",
      "[INFO] processed 2000/25000\n",
      "[INFO] processed 3000/25000\n",
      "[INFO] processed 4000/25000\n",
      "[INFO] processed 5000/25000\n",
      "[INFO] processed 6000/25000\n",
      "[INFO] processed 7000/25000\n",
      "[INFO] processed 8000/25000\n",
      "[INFO] processed 9000/25000\n",
      "[INFO] processed 10000/25000\n",
      "[INFO] processed 11000/25000\n",
      "[INFO] processed 12000/25000\n",
      "[INFO] processed 13000/25000\n",
      "[INFO] processed 14000/25000\n",
      "[INFO] processed 15000/25000\n",
      "[INFO] processed 16000/25000\n",
      "[INFO] processed 17000/25000\n",
      "[INFO] processed 18000/25000\n",
      "[INFO] processed 19000/25000\n",
      "[INFO] processed 20000/25000\n",
      "[INFO] processed 21000/25000\n",
      "[INFO] processed 22000/25000\n",
      "[INFO] processed 23000/25000\n",
      "[INFO] processed 24000/25000\n"
     ]
    }
   ],
   "source": [
    "# Process train and test data separately\n",
    "print(\"[INFO] processing training data...\")\n",
    "rawImages, features, labels = process_images(\"../data/dogs-vs-cats/train\")\n"
   ]
  },
  {
   "cell_type": "code",
   "execution_count": 66,
   "metadata": {},
   "outputs": [],
   "source": [
    "(trainRI, testRI, trainRL, testRL) = train_test_split(\n",
    "\trawImages, labels, test_size=0.25, random_state=42)\n",
    "(trainFeat, testFeat, trainLabels, testLabels) = train_test_split(\n",
    "\tfeatures, labels, test_size=0.25, random_state=42)"
   ]
  },
  {
   "cell_type": "code",
   "execution_count": 67,
   "metadata": {},
   "outputs": [
    {
     "name": "stdout",
     "output_type": "stream",
     "text": [
      "[INFO] evaluating raw pixel accuracy...\n",
      "[INFO] raw pixel accuracy: 52.18%\n"
     ]
    }
   ],
   "source": [
    "# train and evaluate a k-NN classifier on the raw pixel intensities\n",
    "print(\"[INFO] evaluating raw pixel accuracy...\")\n",
    "modelRI = KNeighborsClassifier(n_neighbors=2, n_jobs=-1)\n",
    "modelRI.fit(trainRI, trainRL)\n",
    "accRI = modelRI.score(testRI, testRL)\n",
    "print(\"[INFO] raw pixel accuracy: {:.2f}%\".format(accRI * 100))"
   ]
  },
  {
   "cell_type": "code",
   "execution_count": 68,
   "metadata": {},
   "outputs": [
    {
     "name": "stdout",
     "output_type": "stream",
     "text": [
      "[INFO] evaluating histogram accuracy...\n",
      "[INFO] histogram accuracy: 57.26%\n"
     ]
    }
   ],
   "source": [
    "# train and evaluate a k-NN classifier on the histogram representations\n",
    "print(\"[INFO] evaluating histogram accuracy...\")\n",
    "modelFeat= KNeighborsClassifier(n_neighbors=2, n_jobs=-1)\n",
    "modelFeat.fit(trainFeat, trainLabels)\n",
    "acc = modelFeat.score(testFeat, testLabels)\n",
    "print(\"[INFO] histogram accuracy: {:.2f}%\".format(acc * 100))"
   ]
  },
  {
   "cell_type": "code",
   "execution_count": null,
   "metadata": {},
   "outputs": [],
   "source": [
    "# # Make predictions on test set\n",
    "# testPredictions = modelFeat.predict(testFeat)\n",
    "# print(\"[INFO] Histogram predictions on test set:\", testPredictions[:10])  # Print first 10 predictions"
   ]
  },
  {
   "cell_type": "code",
   "execution_count": 70,
   "metadata": {},
   "outputs": [
    {
     "name": "stdout",
     "output_type": "stream",
     "text": [
      "[INFO] processing test data...\n",
      "Image 0:\n",
      "  Path: ../data/dogs-vs-cats/test1/9733.jpg\n",
      "  Label: None\n",
      "  Shape: (375, 499, 3)\n",
      "  Pixel vector shape: (12288,)\n",
      "  Histogram shape: (512,)\n",
      "Image 1:\n",
      "  Path: ../data/dogs-vs-cats/test1/63.jpg\n",
      "  Label: None\n",
      "  Shape: (303, 200, 3)\n",
      "  Pixel vector shape: (12288,)\n",
      "  Histogram shape: (512,)\n",
      "Image 2:\n",
      "  Path: ../data/dogs-vs-cats/test1/6400.jpg\n",
      "  Label: None\n",
      "  Shape: (374, 500, 3)\n",
      "  Pixel vector shape: (12288,)\n",
      "  Histogram shape: (512,)\n",
      "Image 3:\n",
      "  Path: ../data/dogs-vs-cats/test1/823.jpg\n",
      "  Label: None\n",
      "  Shape: (374, 500, 3)\n",
      "  Pixel vector shape: (12288,)\n",
      "  Histogram shape: (512,)\n",
      "Image 4:\n",
      "  Path: ../data/dogs-vs-cats/test1/4217.jpg\n",
      "  Label: None\n",
      "  Shape: (250, 349, 3)\n",
      "  Pixel vector shape: (12288,)\n",
      "  Histogram shape: (512,)\n",
      "[INFO] processed 1000/12500\n",
      "[INFO] processed 2000/12500\n",
      "[INFO] processed 3000/12500\n",
      "[INFO] processed 4000/12500\n",
      "[INFO] processed 5000/12500\n",
      "[INFO] processed 6000/12500\n",
      "[INFO] processed 7000/12500\n",
      "[INFO] processed 8000/12500\n",
      "[INFO] processed 9000/12500\n",
      "[INFO] processed 10000/12500\n",
      "[INFO] processed 11000/12500\n",
      "[INFO] processed 12000/12500\n"
     ]
    }
   ],
   "source": [
    "print(\"[INFO] processing test data...\")\n",
    "testRI, testFeat, testLabels = process_images(\"../data/dogs-vs-cats/test1\", has_labels=False)"
   ]
  },
  {
   "cell_type": "code",
   "execution_count": 71,
   "metadata": {},
   "outputs": [],
   "source": [
    "# Make predictions on test set\n",
    "testPredictionsRI = modelRI.predict(testRI)\n",
    "testPredictionsFeat = modelFeat.predict(testFeat)"
   ]
  },
  {
   "cell_type": "code",
   "execution_count": 72,
   "metadata": {},
   "outputs": [],
   "source": [
    "# Visualize predictions\n",
    "def visualize_predictions(imagePaths, predictionsRI, predictionsFeat, num_images=10):\n",
    "    for i in range(min(num_images, len(imagePaths))):\n",
    "        imagePath = imagePaths[i]\n",
    "        image = cv2.imread(imagePath)\n",
    "        image = cv2.cvtColor(image, cv2.COLOR_BGR2RGB)\n",
    "        \n",
    "        plt.figure(figsize=(12, 6))\n",
    "        \n",
    "        plt.subplot(1, 2, 1)\n",
    "        plt.imshow(image)\n",
    "        plt.title(f\"Raw Pixel Prediction: {predictionsRI[i]}\")\n",
    "        \n",
    "        plt.subplot(1, 2, 2)\n",
    "        plt.imshow(image)\n",
    "        plt.title(f\"Histogram Prediction: {predictionsFeat[i]}\")\n",
    "        \n",
    "        plt.show()"
   ]
  },
  {
   "cell_type": "code",
   "execution_count": 75,
   "metadata": {},
   "outputs": [
    {
     "ename": "TypeError",
     "evalue": "object of type 'generator' has no len()",
     "output_type": "error",
     "traceback": [
      "\u001b[0;31m---------------------------------------------------------------------------\u001b[0m",
      "\u001b[0;31mTypeError\u001b[0m                                 Traceback (most recent call last)",
      "Cell \u001b[0;32mIn[75], line 2\u001b[0m\n\u001b[1;32m      1\u001b[0m \u001b[38;5;66;03m# Visualize the first 10 predictions\u001b[39;00m\n\u001b[0;32m----> 2\u001b[0m \u001b[43mvisualize_predictions\u001b[49m\u001b[43m(\u001b[49m\n\u001b[1;32m      3\u001b[0m \u001b[43m    \u001b[49m\u001b[43mpaths\u001b[49m\u001b[38;5;241;43m.\u001b[39;49m\u001b[43mlist_images\u001b[49m\u001b[43m(\u001b[49m\u001b[38;5;124;43m\"\u001b[39;49m\u001b[38;5;124;43m../data/dogs-vs-cats/test1\u001b[39;49m\u001b[38;5;124;43m\"\u001b[39;49m\u001b[43m)\u001b[49m\u001b[43m,\u001b[49m\u001b[43m \u001b[49m\n\u001b[1;32m      4\u001b[0m \u001b[43m    \u001b[49m\u001b[43mtestPredictionsRI\u001b[49m\u001b[43m,\u001b[49m\u001b[43m \u001b[49m\u001b[43mtestPredictionsFeat\u001b[49m\u001b[43m,\u001b[49m\u001b[43m \u001b[49m\u001b[43mnum_images\u001b[49m\u001b[38;5;241;43m=\u001b[39;49m\u001b[38;5;241;43m10\u001b[39;49m\u001b[43m)\u001b[49m\n",
      "Cell \u001b[0;32mIn[72], line 3\u001b[0m, in \u001b[0;36mvisualize_predictions\u001b[0;34m(imagePaths, predictionsRI, predictionsFeat, num_images)\u001b[0m\n\u001b[1;32m      2\u001b[0m \u001b[38;5;28;01mdef\u001b[39;00m \u001b[38;5;21mvisualize_predictions\u001b[39m(imagePaths, predictionsRI, predictionsFeat, num_images\u001b[38;5;241m=\u001b[39m\u001b[38;5;241m10\u001b[39m):\n\u001b[0;32m----> 3\u001b[0m     \u001b[38;5;28;01mfor\u001b[39;00m i \u001b[38;5;129;01min\u001b[39;00m \u001b[38;5;28mrange\u001b[39m(\u001b[38;5;28mmin\u001b[39m(num_images, \u001b[38;5;28;43mlen\u001b[39;49m\u001b[43m(\u001b[49m\u001b[43mimagePaths\u001b[49m\u001b[43m)\u001b[49m)):\n\u001b[1;32m      4\u001b[0m         imagePath \u001b[38;5;241m=\u001b[39m imagePaths[i]\n\u001b[1;32m      5\u001b[0m         image \u001b[38;5;241m=\u001b[39m cv2\u001b[38;5;241m.\u001b[39mimread(imagePath)\n",
      "\u001b[0;31mTypeError\u001b[0m: object of type 'generator' has no len()"
     ]
    }
   ],
   "source": [
    "# Visualize the first 10 predictions\n",
    "visualize_predictions(\n",
    "    paths.list_images(list(\"../data/dogs-vs-cats/test1\")), \n",
    "    testPredictionsRI, testPredictionsFeat, num_images=10)"
   ]
  }
 ],
 "metadata": {
  "kernelspec": {
   "display_name": "knn",
   "language": "python",
   "name": "python3"
  },
  "language_info": {
   "codemirror_mode": {
    "name": "ipython",
    "version": 3
   },
   "file_extension": ".py",
   "mimetype": "text/x-python",
   "name": "python",
   "nbconvert_exporter": "python",
   "pygments_lexer": "ipython3",
   "version": "3.11.9"
  }
 },
 "nbformat": 4,
 "nbformat_minor": 2
}
